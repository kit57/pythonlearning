{
 "cells": [
  {
   "cell_type": "code",
   "execution_count": 44,
   "metadata": {},
   "outputs": [],
   "source": [
    "#Import dependencies\n",
    "import pandas as pd\n",
    "import numpy as np\n",
    "import matplotlib.pyplot as plt\n",
    "from sklearn.cluster import KMeans\n",
    "from sklearn.manifold import TSNE\n",
    "from sklearn.feature_extraction.text import TfidfVectorizer"
   ]
  },
  {
   "cell_type": "code",
   "execution_count": 45,
   "metadata": {},
   "outputs": [],
   "source": [
    "# Read dataset\n",
    "df = pd.read_csv('The_Reserve_PPR.csv')\n",
    "df['Review Text'] = df['Review Text'].astype('str') # Convert column into string/object\n",
    "df['Review Text'] = df['Review Text'].str.replace('\\d+', '') # Remove digits\n",
    "df.dropna(subset=['Review Text'], inplace=True, how='all', axis=0)\n",
    "train = df['Review Text']\n",
    "#msk = np.random.rand(len(df)) < 0.9\n",
    "#\n",
    "#train = df[msk]['Review Text']\n",
    "#print(len(train))\n",
    "#test = df[~msk]['Review Text']\n",
    "#print(len(test))\n",
    "\n",
    "vectorizer = TfidfVectorizer(stop_words='english')\n",
    "X = vectorizer.fit_transform(train)\n"
   ]
  },
  {
   "cell_type": "code",
   "execution_count": 46,
   "metadata": {},
   "outputs": [],
   "source": [
    "# Instantiate K-means model object\n",
    "true_k = 10\n",
    "y_labels = [str(i) for i in range(true_k)]\n",
    "kmeans = KMeans(n_clusters=true_k, init='k-means++', max_iter=100, n_init=10)\n",
    "results = kmeans.fit(X)"
   ]
  },
  {
   "cell_type": "code",
   "execution_count": 47,
   "metadata": {},
   "outputs": [],
   "source": [
    "results = kmeans.predict(X)"
   ]
  },
  {
   "cell_type": "code",
   "execution_count": 49,
   "metadata": {},
   "outputs": [
    {
     "name": "stdout",
     "output_type": "stream",
     "text": [
      "[[  919.3355   -1126.4216  ]\n",
      " [ -622.55334  -1341.6047  ]\n",
      " [-1693.3073    1228.4285  ]\n",
      " [ 1099.3363    1634.0233  ]\n",
      " [-1650.5999    -424.25262 ]\n",
      " [ -826.61914    443.59805 ]\n",
      " [   30.271242  -331.3811  ]\n",
      " [ 1378.7958     178.4118  ]\n",
      " [ -415.49878   1853.7001  ]\n",
      " [  269.1748     799.70013 ]]\n"
     ]
    },
    {
     "data": {
      "image/png": "[encoded data removed]",
      "text/plain": [
       "<Figure size 432x288 with 1 Axes>"
      ]
     },
     "metadata": {
      "needs_background": "light"
     },
     "output_type": "display_data"
    }
   ],
   "source": [
    "# Plot model centroids\n",
    "centroids = kmeans.cluster_centers_\n",
    "tsne_init = 'pca'  # could also be 'random'\n",
    "tsne_perplexity = 20.0\n",
    "tsne_early_exaggeration = 4.0\n",
    "tsne_learning_rate = 1000\n",
    "random_state = 42\n",
    "model = TSNE(n_components=2, random_state=random_state, init=tsne_init, perplexity=tsne_perplexity,\n",
    "         early_exaggeration=tsne_early_exaggeration, learning_rate=tsne_learning_rate)\n",
    "\n",
    "transformed_centroids = model.fit_transform(centroids)\n",
    "print (transformed_centroids)\n",
    "\n",
    "plt.scatter(transformed_centroids[:, 0], transformed_centroids[:, 1], marker='x')\n",
    "plt.show()"
   ]
  },
  {
   "cell_type": "code",
   "execution_count": 50,
   "metadata": {},
   "outputs": [
    {
     "name": "stdout",
     "output_type": "stream",
     "text": [
      "Top 5 terms per cluster:\n",
      "Cluster 0:\n",
      " yesica\n",
      " reyes\n",
      " excellent\n",
      " samuel\n",
      " thank\n",
      "\n",
      "Cluster 1:\n",
      " beautiful\n",
      " nice\n",
      " good\n",
      " beach\n",
      " hotel\n",
      "\n",
      "Cluster 2:\n",
      " great\n",
      " service\n",
      " staff\n",
      " food\n",
      " time\n",
      "\n",
      "Cluster 3:\n",
      " beach\n",
      " room\n",
      " reserve\n",
      " resort\n",
      " kids\n",
      "\n",
      "Cluster 4:\n",
      " boy\n",
      " happy\n",
      " alejandro\n",
      " maria\n",
      " fun\n",
      "\n",
      "Cluster 5:\n",
      " love\n",
      " place\n",
      " zenova\n",
      " second\n",
      " amazing\n",
      "\n",
      "Cluster 6:\n",
      " amazing\n",
      " best\n",
      " service\n",
      " recommend\n",
      " hotel\n",
      "\n",
      "Cluster 7:\n",
      " nan\n",
      " óscar\n",
      " fiancee\n",
      " ferdinand\n",
      " fernandi\n",
      "\n",
      "Cluster 8:\n",
      " reserve\n",
      " palma\n",
      " real\n",
      " paradisus\n",
      " beach\n",
      "\n",
      "Cluster 9:\n",
      " family\n",
      " resort\n",
      " concierge\n",
      " time\n",
      " wonderful\n",
      "\n"
     ]
    }
   ],
   "source": [
    "print(\"Top 5 terms per cluster:\")\n",
    "order_centroids = kmeans.cluster_centers_.argsort()[:, ::-1]\n",
    "terms = vectorizer.get_feature_names()\n",
    "for i in range(true_k):\n",
    "    print (\"Cluster %d:\" % i)\n",
    "    for ind in order_centroids[i, :5]:\n",
    "        print (' %s' % terms[ind])\n",
    "    print()"
   ]
  },
  {
   "cell_type": "code",
   "execution_count": null,
   "metadata": {},
   "outputs": [],
   "source": []
  }
 ],
 "metadata": {
  "kernelspec": {
   "display_name": "Python 3",
   "language": "python",
   "name": "python3"
  },
  "language_info": {
   "codemirror_mode": {
    "name": "ipython",
    "version": 3
   },
   "file_extension": ".py",
   "mimetype": "text/x-python",
   "name": "python",
   "nbconvert_exporter": "python",
   "pygments_lexer": "ipython3",
   "version": "3.7.1"
  }
 },
 "nbformat": 4,
 "nbformat_minor": 4
}
