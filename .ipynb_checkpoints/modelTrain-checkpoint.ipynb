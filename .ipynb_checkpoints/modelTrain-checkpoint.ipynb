{
 "cells": [
  {
   "cell_type": "code",
   "execution_count": 50,
   "metadata": {},
   "outputs": [
    {
     "data": {
      "text/plain": [
       "array([ 6,  5,  7,  8,  9,  4,  3,  2, 10,  1], dtype=int64)"
      ]
     },
     "execution_count": 50,
     "metadata": {},
     "output_type": "execute_result"
    }
   ],
   "source": [
    "import numpy as np\n",
    "import pandas as pd\n",
    "\n",
    "#X = onehotencoder.fit_transform(imagesArray.reshape(-1,1)).toarray()\n",
    "#y = dataSet[\"objeto\"]\n",
    "from keras.utils.np_utils import to_categorical\n",
    "ames = pd.read_csv('ames.csv', nrows= 1e6)\n"
   ]
  },
  {
   "cell_type": "code",
   "execution_count": 41,
   "metadata": {},
   "outputs": [],
   "source": [
    "np.random.seed(42)\n",
    "\n",
    "\n",
    "variables_independientes = ames.drop(\"precio_venta\", axis=1).columns\n",
    "datos_numericos = ames[variables_independientes].select_dtypes([int, float, \"float64\",\"int64\"])\n",
    "col_no_numericas = ames[variables_independientes].select_dtypes([object]).columns\n",
    "col_numericas = datos_numericos.columns\n",
    "\n",
    "dict_var_ordinales = {\n",
    "    \"calidad_cocinas\": [\"Po\", \"Fa\", \"TA\", \"Gd\", \"Ex\"],\n",
    "    \"funcionalidad\":[\"Sal\", \"Sev\", \"Maj2\", \"Maj1\", \"Min2\", \"Min1\",\"Typ\"],\n",
    "    \"calidad_chimeneas\":[\"NA\",\"Po\",\"Fa\",\"TA\",\"Gd\",\"Ex\"],\n",
    "    \"acabado_garaje\":[\"NA\",\"Unf\",\"RFn\",\"Fin\"],\n",
    "    \"calidad_garaje\":[\"NA\",\"Po\",\"Fa\",\"TA\",\"Gd\",\"Ex\"],\n",
    "    \"condicion_garaje\":[\"NA\",\"Po\",\"Fa\",\"TA\",\"Gd\",\"Ex\"],\n",
    "    \"acceso_garaje_pavimentado\":[\"N\", \"P\", \"Y\"],\n",
    "    \"calidad_piscina\":[\"NA\",\"Fa\",\"TA\",\"Gd\",\"Ex\"],\n",
    "    \"calidad_valla\":[\"NA\",\"MnWw\",\"GdWo\",\"MnPrv\",\"GdPrv\"],\n",
    "    \"forma_parcela\":[\"IR3\", \"IR2\", \"IR1\",\"Reg\"],\n",
    "    \"tipo_instalaciones\":[\"ELO\",\"NoSeWa\",\"NoSewr\",\"AllPub\"],\n",
    "    \"pendiente_parcela\":[\"Sev\", \"Mod\", \"Gtl\"],\n",
    "    \"calidad_material_exterior\":[\"Po\",\"Fa\",\"TA\",\"Gd\",\"Ex\"],\n",
    "    \"condicion_material_exterior\":[\"Po\",\"Fa\",\"TA\",\"Gd\",\"Ex\"],\n",
    "    \"altura_sotano\":[\"NA\",\"Po\",\"Fa\",\"TA\",\"Gd\",\"Ex\"],\n",
    "    \"condicion_sotano\":[\"NA\",\"Po\",\"Fa\",\"TA\",\"Gd\",\"Ex\"],\n",
    "    \"sotano_exterior\":[\"NA\",\"No\",\"Mn\",\"Av\",\"Gd\"],\n",
    "    \"calidad_sotano_habitable1\":[\"NA\", \"Unf\", \"LwQ\", \"Rec\", \"BLQ\", \"ALQ\", \"GLQ\"],\n",
    "    \"calidad_sotano_habitable2\":[\"NA\", \"Unf\", \"LwQ\", \"Rec\", \"BLQ\", \"ALQ\", \"GLQ\"],\n",
    "     \"calidad_calefaccion\":[\"Po\",\"Fa\",\"TA\",\"Gd\",\"Ex\"],\n",
    "    \n",
    "}\n",
    "\n",
    "col_ordinales = list(dict_var_ordinales.keys())\n",
    "datos_ordinales = ames[col_ordinales]\n",
    "col_categoricas = list(set(col_no_numericas) - set(col_ordinales))\n",
    "datos_categoricos = ames[col_categoricas]\n",
    "\n"
   ]
  },
  {
   "cell_type": "code",
   "execution_count": 42,
   "metadata": {},
   "outputs": [],
   "source": [
    "from sklearn.preprocessing import  Normalizer\n",
    "from sklearn.impute import SimpleImputer\n",
    "imp_mean = SimpleImputer(missing_values=np.nan, strategy='median')\n",
    "datos_imputer = imp_mean.fit_transform(datos_numericos);\n",
    "\n",
    "transformer = Normalizer().fit(datos_imputer)  # fit does nothing.\n",
    "dator_normalizados = transformer.transform(datos_imputer)\n",
    "datos_numericos_imputados_normalizados = pd.DataFrame(\n",
    "    dator_normalizados,\n",
    "    columns=datos_numericos.columns\n",
    ")"
   ]
  },
  {
   "cell_type": "code",
   "execution_count": 43,
   "metadata": {},
   "outputs": [],
   "source": [
    "datos_categoricos_dummy = pd.get_dummies(datos_categoricos, drop_first=True)"
   ]
  },
  {
   "cell_type": "code",
   "execution_count": 44,
   "metadata": {},
   "outputs": [
    {
     "name": "stderr",
     "output_type": "stream",
     "text": [
      "C:\\ProgramData\\Anaconda3\\lib\\site-packages\\ipykernel_launcher.py:5: SettingWithCopyWarning: \n",
      "A value is trying to be set on a copy of a slice from a DataFrame.\n",
      "Try using .loc[row_indexer,col_indexer] = value instead\n",
      "\n",
      "See the caveats in the documentation: https://pandas.pydata.org/pandas-docs/stable/user_guide/indexing.html#returning-a-view-versus-a-copy\n",
      "  \"\"\"\n"
     ]
    }
   ],
   "source": [
    "for columna_ordinal, valores in dict_var_ordinales.items():\n",
    "    datos_ordinales[columna_ordinal] = (\n",
    "    datos_ordinales[columna_ordinal]\n",
    "    .astype(\"category\")\n",
    "    .cat.set_categories(valores)\n",
    "    .cat.codes\n",
    ")"
   ]
  },
  {
   "cell_type": "code",
   "execution_count": 49,
   "metadata": {},
   "outputs": [
    {
     "data": {
      "text/plain": [
       "array([1.14003182e-08, 9.49938182e-09, 1.13992372e-08, ...,\n",
       "       5.41477076e-09, 5.41066943e-09, 7.57451934e-09])"
      ]
     },
     "execution_count": 49,
     "metadata": {},
     "output_type": "execute_result"
    }
   ],
   "source": [
    "\n",
    "ames_procesado = pd.concat([\n",
    "    datos_numericos_imputados_normalizados,\n",
    "    datos_categoricos_dummy,\n",
    "    datos_ordinales\n",
    "], axis=1)\n",
    "variable_objetivo = [\"precio_venta\"]\n",
    "variables = [\"area_parcela\",\"area_piscina\",\"n_chimeneas\",\"n_cocinas\",\"n_dormitorios_sobre_suelo\",\"area_habitable_sobre_suelo\", \"calidad_general\"]\n",
    "ames_X = ames_procesado[variables]\n",
    "ames_y = ames[variable_objetivo]\n",
    "\n",
    "ames_X[\"calidad_general\"].unique()\n",
    "\n"
   ]
  },
  {
   "cell_type": "code",
   "execution_count": 46,
   "metadata": {
    "scrolled": true
   },
   "outputs": [
    {
     "name": "stdout",
     "output_type": "stream",
     "text": [
      "46736.91831068567\n"
     ]
    }
   ],
   "source": [
    "\n",
    "\n",
    "\n",
    "from sklearn.model_selection import train_test_split\n",
    "from sklearn.linear_model import LinearRegression\n",
    "\n",
    "X_train, X_test ,y_train,  y_test = train_test_split(ames_X, ames_y)\n",
    "modelo = LinearRegression()\n",
    "modelo.fit(X=X_train,\n",
    "           y=y_train)\n",
    "\n",
    "y_pred = modelo.predict(X_test)\n",
    "\n",
    "#print(X_train, X_test)\n",
    "from sklearn.metrics import mean_squared_error\n",
    "mse = np.sqrt(mean_squared_error(y_test, y_pred))\n",
    "print(mse)"
   ]
  },
  {
   "cell_type": "code",
   "execution_count": 47,
   "metadata": {},
   "outputs": [
    {
     "data": {
      "text/plain": [
       "['dtypes_ames.pkl']"
      ]
     },
     "execution_count": 47,
     "metadata": {},
     "output_type": "execute_result"
    }
   ],
   "source": [
    "from sklearn.externals import joblib\n",
    "\n",
    "joblib.dump(modelo, 'modelo_ames.pkl') \n",
    "import json\n",
    "with open('columnas_names.json', 'w') as fname:\n",
    "    x_columnas = ames_X.columns.tolist()\n",
    "    json.dump(x_columnas, fname)\n",
    "    \n",
    "x_dtypes = ames_X.dtypes\n",
    "x_dtypes = {col: ames_X[col].dtype for col in ames_X.columns}\n",
    "joblib.dump(x_dtypes, 'dtypes_ames.pkl')"
   ]
  },
  {
   "cell_type": "code",
   "execution_count": 38,
   "metadata": {},
   "outputs": [
    {
     "data": {
      "text/html": [
       "<div>\n",
       "<style scoped>\n",
       "    .dataframe tbody tr th:only-of-type {\n",
       "        vertical-align: middle;\n",
       "    }\n",
       "\n",
       "    .dataframe tbody tr th {\n",
       "        vertical-align: top;\n",
       "    }\n",
       "\n",
       "    .dataframe thead th {\n",
       "        text-align: right;\n",
       "    }\n",
       "</style>\n",
       "<table border=\"1\" class=\"dataframe\">\n",
       "  <thead>\n",
       "    <tr style=\"text-align: right;\">\n",
       "      <th></th>\n",
       "      <th>area_parcela</th>\n",
       "      <th>area_piscina</th>\n",
       "      <th>n_chimeneas</th>\n",
       "      <th>n_cocinas</th>\n",
       "      <th>n_dormitorios_sobre_suelo</th>\n",
       "      <th>area_habitable_sobre_suelo</th>\n",
       "      <th>calidad_general</th>\n",
       "    </tr>\n",
       "  </thead>\n",
       "  <tbody>\n",
       "    <tr>\n",
       "      <th>0</th>\n",
       "      <td>31770</td>\n",
       "      <td>0</td>\n",
       "      <td>2</td>\n",
       "      <td>1</td>\n",
       "      <td>3</td>\n",
       "      <td>1656</td>\n",
       "      <td>6</td>\n",
       "    </tr>\n",
       "    <tr>\n",
       "      <th>1</th>\n",
       "      <td>11622</td>\n",
       "      <td>0</td>\n",
       "      <td>0</td>\n",
       "      <td>1</td>\n",
       "      <td>2</td>\n",
       "      <td>896</td>\n",
       "      <td>5</td>\n",
       "    </tr>\n",
       "    <tr>\n",
       "      <th>2</th>\n",
       "      <td>14267</td>\n",
       "      <td>0</td>\n",
       "      <td>0</td>\n",
       "      <td>1</td>\n",
       "      <td>3</td>\n",
       "      <td>1329</td>\n",
       "      <td>6</td>\n",
       "    </tr>\n",
       "    <tr>\n",
       "      <th>3</th>\n",
       "      <td>11160</td>\n",
       "      <td>0</td>\n",
       "      <td>2</td>\n",
       "      <td>1</td>\n",
       "      <td>3</td>\n",
       "      <td>2110</td>\n",
       "      <td>7</td>\n",
       "    </tr>\n",
       "    <tr>\n",
       "      <th>4</th>\n",
       "      <td>13830</td>\n",
       "      <td>0</td>\n",
       "      <td>1</td>\n",
       "      <td>1</td>\n",
       "      <td>3</td>\n",
       "      <td>1629</td>\n",
       "      <td>5</td>\n",
       "    </tr>\n",
       "    <tr>\n",
       "      <th>...</th>\n",
       "      <td>...</td>\n",
       "      <td>...</td>\n",
       "      <td>...</td>\n",
       "      <td>...</td>\n",
       "      <td>...</td>\n",
       "      <td>...</td>\n",
       "      <td>...</td>\n",
       "    </tr>\n",
       "    <tr>\n",
       "      <th>2925</th>\n",
       "      <td>7937</td>\n",
       "      <td>0</td>\n",
       "      <td>0</td>\n",
       "      <td>1</td>\n",
       "      <td>3</td>\n",
       "      <td>1003</td>\n",
       "      <td>6</td>\n",
       "    </tr>\n",
       "    <tr>\n",
       "      <th>2926</th>\n",
       "      <td>8885</td>\n",
       "      <td>0</td>\n",
       "      <td>0</td>\n",
       "      <td>1</td>\n",
       "      <td>2</td>\n",
       "      <td>902</td>\n",
       "      <td>5</td>\n",
       "    </tr>\n",
       "    <tr>\n",
       "      <th>2927</th>\n",
       "      <td>10441</td>\n",
       "      <td>0</td>\n",
       "      <td>0</td>\n",
       "      <td>1</td>\n",
       "      <td>3</td>\n",
       "      <td>970</td>\n",
       "      <td>5</td>\n",
       "    </tr>\n",
       "    <tr>\n",
       "      <th>2928</th>\n",
       "      <td>10010</td>\n",
       "      <td>0</td>\n",
       "      <td>1</td>\n",
       "      <td>1</td>\n",
       "      <td>2</td>\n",
       "      <td>1389</td>\n",
       "      <td>5</td>\n",
       "    </tr>\n",
       "    <tr>\n",
       "      <th>2929</th>\n",
       "      <td>9627</td>\n",
       "      <td>0</td>\n",
       "      <td>1</td>\n",
       "      <td>1</td>\n",
       "      <td>3</td>\n",
       "      <td>2000</td>\n",
       "      <td>7</td>\n",
       "    </tr>\n",
       "  </tbody>\n",
       "</table>\n",
       "<p>2930 rows × 7 columns</p>\n",
       "</div>"
      ],
      "text/plain": [
       "      area_parcela  area_piscina  n_chimeneas  n_cocinas  \\\n",
       "0            31770             0            2          1   \n",
       "1            11622             0            0          1   \n",
       "2            14267             0            0          1   \n",
       "3            11160             0            2          1   \n",
       "4            13830             0            1          1   \n",
       "...            ...           ...          ...        ...   \n",
       "2925          7937             0            0          1   \n",
       "2926          8885             0            0          1   \n",
       "2927         10441             0            0          1   \n",
       "2928         10010             0            1          1   \n",
       "2929          9627             0            1          1   \n",
       "\n",
       "      n_dormitorios_sobre_suelo  area_habitable_sobre_suelo  calidad_general  \n",
       "0                             3                        1656                6  \n",
       "1                             2                         896                5  \n",
       "2                             3                        1329                6  \n",
       "3                             3                        2110                7  \n",
       "4                             3                        1629                5  \n",
       "...                         ...                         ...              ...  \n",
       "2925                          3                        1003                6  \n",
       "2926                          2                         902                5  \n",
       "2927                          3                         970                5  \n",
       "2928                          2                        1389                5  \n",
       "2929                          3                        2000                7  \n",
       "\n",
       "[2930 rows x 7 columns]"
      ]
     },
     "execution_count": 38,
     "metadata": {},
     "output_type": "execute_result"
    }
   ],
   "source": []
  },
  {
   "cell_type": "code",
   "execution_count": null,
   "metadata": {},
   "outputs": [],
   "source": []
  }
 ],
 "metadata": {
  "kernelspec": {
   "display_name": "Python 3",
   "language": "python",
   "name": "python3"
  },
  "language_info": {
   "codemirror_mode": {
    "name": "ipython",
    "version": 3
   },
   "file_extension": ".py",
   "mimetype": "text/x-python",
   "name": "python",
   "nbconvert_exporter": "python",
   "pygments_lexer": "ipython3",
   "version": "3.7.6"
  }
 },
 "nbformat": 4,
 "nbformat_minor": 4
}
