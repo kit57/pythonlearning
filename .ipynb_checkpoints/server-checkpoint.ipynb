{
 "cells": [
  {
   "cell_type": "code",
   "execution_count": null,
   "metadata": {},
   "outputs": [
    {
     "name": "stderr",
     "output_type": "stream",
     "text": [
      "C:\\ProgramData\\Anaconda3\\lib\\site-packages\\sklearn\\externals\\joblib\\__init__.py:15: FutureWarning: sklearn.externals.joblib is deprecated in 0.21 and will be removed in 0.23. Please import this functionality directly from joblib, which can be installed with: pip install joblib. If this warning is raised when loading pickled models, you may need to re-serialize those models with scikit-learn 0.21+.\n",
      "  warnings.warn(msg, category=FutureWarning)\n",
      " * Running on http://localhost:9012/ (Press CTRL+C to quit)\n",
      "127.0.0.1 - - [21/May/2020 11:38:44] \"\u001b[37mOPTIONS /getDatos HTTP/1.1\u001b[0m\" 200 -\n",
      "127.0.0.1 - - [21/May/2020 11:38:45] \"\u001b[37mPOST /getDatos HTTP/1.1\u001b[0m\" 200 -\n",
      "127.0.0.1 - - [21/May/2020 11:38:47] \"\u001b[37mPOST /getDatos HTTP/1.1\u001b[0m\" 200 -\n",
      "127.0.0.1 - - [21/May/2020 11:38:49] \"\u001b[37mPOST /getDatos HTTP/1.1\u001b[0m\" 200 -\n",
      "127.0.0.1 - - [21/May/2020 11:38:51] \"\u001b[37mOPTIONS /getDatos HTTP/1.1\u001b[0m\" 200 -\n",
      "127.0.0.1 - - [21/May/2020 11:38:51] \"\u001b[37mPOST /getDatos HTTP/1.1\u001b[0m\" 200 -\n",
      "127.0.0.1 - - [21/May/2020 11:38:53] \"\u001b[37mPOST /getDatos HTTP/1.1\u001b[0m\" 200 -\n",
      "127.0.0.1 - - [21/May/2020 11:38:55] \"\u001b[37mPOST /getDatos HTTP/1.1\u001b[0m\" 200 -\n",
      "127.0.0.1 - - [21/May/2020 11:38:58] \"\u001b[37mOPTIONS /getDatos HTTP/1.1\u001b[0m\" 200 -\n",
      "127.0.0.1 - - [21/May/2020 11:38:58] \"\u001b[37mPOST /getDatos HTTP/1.1\u001b[0m\" 200 -\n",
      "127.0.0.1 - - [21/May/2020 11:46:25] \"\u001b[37mOPTIONS /getDatos HTTP/1.1\u001b[0m\" 200 -\n",
      "127.0.0.1 - - [21/May/2020 11:46:25] \"\u001b[37mPOST /getDatos HTTP/1.1\u001b[0m\" 200 -\n",
      "127.0.0.1 - - [21/May/2020 11:51:01] \"\u001b[37mOPTIONS /getPrediccion HTTP/1.1\u001b[0m\" 200 -\n",
      "127.0.0.1 - - [21/May/2020 11:51:02] \"\u001b[37mPOST /getPrediccion HTTP/1.1\u001b[0m\" 200 -\n"
     ]
    },
    {
     "name": "stdout",
     "output_type": "stream",
     "text": [
      "695212.59\n"
     ]
    },
    {
     "name": "stderr",
     "output_type": "stream",
     "text": [
      "127.0.0.1 - - [21/May/2020 11:51:19] \"\u001b[37mOPTIONS /getPrediccion HTTP/1.1\u001b[0m\" 200 -\n",
      "127.0.0.1 - - [21/May/2020 11:51:19] \"\u001b[37mPOST /getPrediccion HTTP/1.1\u001b[0m\" 200 -\n"
     ]
    },
    {
     "name": "stdout",
     "output_type": "stream",
     "text": [
      "695212.59\n"
     ]
    },
    {
     "name": "stderr",
     "output_type": "stream",
     "text": [
      "127.0.0.1 - - [21/May/2020 11:51:24] \"\u001b[37mPOST /getPrediccion HTTP/1.1\u001b[0m\" 200 -\n"
     ]
    },
    {
     "name": "stdout",
     "output_type": "stream",
     "text": [
      "695212.59\n"
     ]
    },
    {
     "name": "stderr",
     "output_type": "stream",
     "text": [
      "127.0.0.1 - - [21/May/2020 11:51:35] \"\u001b[37mOPTIONS /getPrediccion HTTP/1.1\u001b[0m\" 200 -\n",
      "127.0.0.1 - - [21/May/2020 11:51:36] \"\u001b[37mPOST /getPrediccion HTTP/1.1\u001b[0m\" 200 -\n"
     ]
    },
    {
     "name": "stdout",
     "output_type": "stream",
     "text": [
      "695212.59\n"
     ]
    },
    {
     "name": "stderr",
     "output_type": "stream",
     "text": [
      "127.0.0.1 - - [21/May/2020 11:53:59] \"\u001b[37mOPTIONS /getPrediccion HTTP/1.1\u001b[0m\" 200 -\n",
      "127.0.0.1 - - [21/May/2020 11:53:59] \"\u001b[37mPOST /getPrediccion HTTP/1.1\u001b[0m\" 200 -\n"
     ]
    },
    {
     "name": "stdout",
     "output_type": "stream",
     "text": [
      "695212.59\n"
     ]
    },
    {
     "name": "stderr",
     "output_type": "stream",
     "text": [
      "127.0.0.1 - - [21/May/2020 11:54:11] \"\u001b[37mOPTIONS /getPrediccion HTTP/1.1\u001b[0m\" 200 -\n",
      "127.0.0.1 - - [21/May/2020 11:54:11] \"\u001b[37mPOST /getPrediccion HTTP/1.1\u001b[0m\" 200 -\n"
     ]
    },
    {
     "name": "stdout",
     "output_type": "stream",
     "text": [
      "695212.59\n"
     ]
    }
   ],
   "source": [
    "import json\n",
    "import pandas as pd\n",
    "from decimal import Decimal\n",
    "from sklearn.externals import joblib\n",
    "from flask_cors import CORS, cross_origin\n",
    "from werkzeug.wrappers import Request, Response\n",
    "from flask import Flask, jsonify, request\n",
    "\n",
    "\n",
    "with open('columnas_names.json') as fname:\n",
    "    model_columnas = json.load(fname)\n",
    "model = joblib.load(\"modelo_ames.pkl\")\n",
    "model_dtypes = joblib.load(\"dtypes_ames.pkl\")\n",
    "\n",
    "app = Flask(__name__)\n",
    "cors = CORS(app)\n",
    "datos = pd.read_csv('ames.csv', nrows= 1e3)\n",
    "variables = [\"area_parcela\",\"n_chimeneas\",\"n_cocinas\",\"n_dormitorios_sobre_suelo\",\"area_habitable_sobre_suelo\", \"calidad_general\"]\n",
    "variable_objetivo = [\"precio_venta\"]\n",
    "getDatosVariables =[\"area_parcela\",\"n_chimeneas\",\"n_cocinas\",\"n_dormitorios_sobre_suelo\",\"area_habitable_sobre_suelo\", \"calidad_general\",\"precio_venta\"]\n",
    "predecir = datos[variables]\n",
    "\n",
    "def dict_a_df(obs, columnas, dtypes):\n",
    "    obs_df = pd.DataFrame([obs])\n",
    "    for col, dtype in dtypes.items():\n",
    "        if col in obs_df.columns:\n",
    "            obs_df[col] = obs_df[col].astype(dtype)\n",
    "        else:\n",
    "            obs_df[col] = None\n",
    "    return obs_df\n",
    "\n",
    "app.config['CORS_HEADERS'] = 'Content-Type'\n",
    "\n",
    "\n",
    "\n",
    "\n",
    "@app.route('/getDatos', methods=['POST'])\n",
    "@cross_origin()\n",
    "def getDatos():\n",
    "    filtro = request.get_json()\n",
    "    listaFiltro = []\n",
    "    listaFiltro.append(filtro)\n",
    "    listaFiltro.append(\"precio_venta\")\n",
    "    datosJson = datos[listaFiltro].T.to_json(orient='values')\n",
    "    return datosJson\n",
    "\n",
    "@app.route('/getPrediccion' , methods=['POST'])\n",
    "@cross_origin()\n",
    "def predecir():\n",
    "    observacion_dict = request.get_json()\n",
    "    print(observacion_dict);\n",
    "    obs_df = pd.DataFrame([observacion_dict])\n",
    "    #obs_df = dict_a_df(observacion_dict, model_columnas, model_dtypes)\n",
    "    prediccion = model.predict(obs_df)[0]\n",
    "    print(prediccion)\n",
    "    return jsonify({'prediccion': prediccion})\n",
    "\n",
    "if __name__ == \"__main__\":\n",
    "    from werkzeug.serving import run_simple\n",
    "    run_simple('localhost', 9012, app)"
   ]
  }
 ],
 "metadata": {
  "kernelspec": {
   "display_name": "Python 3",
   "language": "python",
   "name": "python3"
  },
  "language_info": {
   "codemirror_mode": {
    "name": "ipython",
    "version": 3
   },
   "file_extension": ".py",
   "mimetype": "text/x-python",
   "name": "python",
   "nbconvert_exporter": "python",
   "pygments_lexer": "ipython3",
   "version": "3.7.6"
  }
 },
 "nbformat": 4,
 "nbformat_minor": 4
}
