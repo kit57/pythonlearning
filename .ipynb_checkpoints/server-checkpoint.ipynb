{
 "cells": [
  {
   "cell_type": "code",
   "execution_count": null,
   "metadata": {},
   "outputs": [
    {
     "name": "stderr",
     "output_type": "stream",
     "text": [
      " * Running on http://localhost:9012/ (Press CTRL+C to quit)\n"
     ]
    }
   ],
   "source": [
    "import json\n",
    "import pandas as pd\n",
    "from decimal import Decimal\n",
    "from sklearn.externals import joblib\n",
    "from flask_cors import CORS, cross_origin\n",
    "from werkzeug.wrappers import Request, Response\n",
    "from flask import Flask, jsonify, request\n",
    "\n",
    "\n",
    "with open('columnas_names.json') as fname:\n",
    "    model_columnas = json.load(fname)\n",
    "model = joblib.load(\"modelo_ames.pkl\")\n",
    "model_dtypes = joblib.load(\"dtypes_ames.pkl\")\n",
    "\n",
    "app = Flask(__name__)\n",
    "cors = CORS(app)\n",
    "datos = pd.read_csv('ames.csv', nrows= 1e3)\n",
    "variables = [\"area_parcela\",\"n_chimeneas\",\"n_cocinas\",\"n_dormitorios_sobre_suelo\",\"area_habitable_sobre_suelo\", \"calidad_general\"]\n",
    "variable_objetivo = [\"precio_venta\"]\n",
    "getDatosVariables =[\"area_parcela\",\"n_chimeneas\",\"n_cocinas\",\"n_dormitorios_sobre_suelo\",\"area_habitable_sobre_suelo\", \"calidad_general\",\"precio_venta\"]\n",
    "predecir = datos[variables]\n",
    "\n",
    "def dict_a_df(obs, columnas, dtypes):\n",
    "    obs_df = pd.DataFrame([obs])\n",
    "    for col, dtype in dtypes.items():\n",
    "        if col in obs_df.columns:\n",
    "            obs_df[col] = obs_df[col].astype(dtype)\n",
    "        else:\n",
    "            obs_df[col] = None\n",
    "    return obs_df\n",
    "\n",
    "app.config['CORS_HEADERS'] = 'Content-Type'\n",
    "\n",
    "@app.route('/getVariables', methods=['GET'])\n",
    "@cross_origin()\n",
    "def getVariables():\n",
    "    json_types = json.dumps(model_dtypes)\n",
    "    json_label = json.dumps(model_columnas)\n",
    "    json_variables = json.dumps(model_columnas)\n",
    "    return jsonify({'variables': {'tipos': model_dtypes, 'label': model_columnas , 'variables':model_columnas}})\n",
    "\n",
    "\n",
    "@app.route('/getDatos', methods=['POST'])\n",
    "@cross_origin()\n",
    "def getDatos():\n",
    "    filtro = request.get_json()\n",
    "    listaFiltro = []\n",
    "    listaFiltro.append(filtro)\n",
    "    listaFiltro.append(\"precio_venta\")\n",
    "    datosJson = datos[listaFiltro].T.to_json(orient='values')\n",
    "    return datosJson\n",
    "\n",
    "@app.route('/getPrediccion' , methods=['POST'])\n",
    "@cross_origin()\n",
    "def predecir():\n",
    "    observacion_dict = request.get_json()\n",
    "    print(observacion_dict);\n",
    "    obs_df = pd.DataFrame([observacion_dict])\n",
    "    #obs_df = dict_a_df(observacion_dict, model_columnas, model_dtypes)\n",
    "    prediccion = model.predict(obs_df)[0].tolist()\n",
    "    json_str = json.dumps(prediccion)\n",
    "    return json_str\n",
    "\n",
    "if __name__ == \"__main__\":\n",
    "    from werkzeug.serving import run_simple\n",
    "    run_simple('localhost', 9012, app)"
   ]
  }
 ],
 "metadata": {
  "kernelspec": {
   "display_name": "Python 3",
   "language": "python",
   "name": "python3"
  },
  "language_info": {
   "codemirror_mode": {
    "name": "ipython",
    "version": 3
   },
   "file_extension": ".py",
   "mimetype": "text/x-python",
   "name": "python",
   "nbconvert_exporter": "python",
   "pygments_lexer": "ipython3",
   "version": "3.7.6"
  }
 },
 "nbformat": 4,
 "nbformat_minor": 4
}
