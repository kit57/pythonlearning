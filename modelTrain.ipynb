{
 "cells": [
  {
   "cell_type": "code",
   "execution_count": 64,
   "metadata": {},
   "outputs": [],
   "source": [
    "import numpy as np\n",
    "import pandas as pd\n",
    "\n",
    "#X = onehotencoder.fit_transform(imagesArray.reshape(-1,1)).toarray()\n",
    "#y = dataSet[\"objeto\"]\n",
    "from keras.utils.np_utils import to_categorical\n",
    "ames = pd.read_csv('ames.csv', nrows= 1e6)\n"
   ]
  },
  {
   "cell_type": "code",
   "execution_count": 65,
   "metadata": {},
   "outputs": [],
   "source": [
    "np.random.seed(42)\n",
    "\n",
    "\n",
    "variables_independientes = ames.drop(\"precio_venta\", axis=1).columns\n",
    "datos_numericos = ames[variables_independientes].select_dtypes([int, float, \"float64\",\"int64\"])\n",
    "col_no_numericas = ames[variables_independientes].select_dtypes([object]).columns\n",
    "col_numericas = datos_numericos.columns\n",
    "\n",
    "dict_var_ordinales = {\n",
    "    \"calidad_cocinas\": [\"Po\", \"Fa\", \"TA\", \"Gd\", \"Ex\"],\n",
    "    \"funcionalidad\":[\"Sal\", \"Sev\", \"Maj2\", \"Maj1\", \"Min2\", \"Min1\",\"Typ\"],\n",
    "    \"calidad_chimeneas\":[\"NA\",\"Po\",\"Fa\",\"TA\",\"Gd\",\"Ex\"],\n",
    "    \"acabado_garaje\":[\"NA\",\"Unf\",\"RFn\",\"Fin\"],\n",
    "    \"calidad_garaje\":[\"NA\",\"Po\",\"Fa\",\"TA\",\"Gd\",\"Ex\"],\n",
    "    \"condicion_garaje\":[\"NA\",\"Po\",\"Fa\",\"TA\",\"Gd\",\"Ex\"],\n",
    "    \"acceso_garaje_pavimentado\":[\"N\", \"P\", \"Y\"],\n",
    "    \"calidad_piscina\":[\"NA\",\"Fa\",\"TA\",\"Gd\",\"Ex\"],\n",
    "    \"calidad_valla\":[\"NA\",\"MnWw\",\"GdWo\",\"MnPrv\",\"GdPrv\"],\n",
    "    \"forma_parcela\":[\"IR3\", \"IR2\", \"IR1\",\"Reg\"],\n",
    "    \"tipo_instalaciones\":[\"ELO\",\"NoSeWa\",\"NoSewr\",\"AllPub\"],\n",
    "    \"pendiente_parcela\":[\"Sev\", \"Mod\", \"Gtl\"],\n",
    "    \"calidad_material_exterior\":[\"Po\",\"Fa\",\"TA\",\"Gd\",\"Ex\"],\n",
    "    \"condicion_material_exterior\":[\"Po\",\"Fa\",\"TA\",\"Gd\",\"Ex\"],\n",
    "    \"altura_sotano\":[\"NA\",\"Po\",\"Fa\",\"TA\",\"Gd\",\"Ex\"],\n",
    "    \"condicion_sotano\":[\"NA\",\"Po\",\"Fa\",\"TA\",\"Gd\",\"Ex\"],\n",
    "    \"sotano_exterior\":[\"NA\",\"No\",\"Mn\",\"Av\",\"Gd\"],\n",
    "    \"calidad_sotano_habitable1\":[\"NA\", \"Unf\", \"LwQ\", \"Rec\", \"BLQ\", \"ALQ\", \"GLQ\"],\n",
    "    \"calidad_sotano_habitable2\":[\"NA\", \"Unf\", \"LwQ\", \"Rec\", \"BLQ\", \"ALQ\", \"GLQ\"],\n",
    "     \"calidad_calefaccion\":[\"Po\",\"Fa\",\"TA\",\"Gd\",\"Ex\"],\n",
    "    \n",
    "}\n",
    "\n",
    "col_ordinales = list(dict_var_ordinales.keys())\n",
    "datos_ordinales = ames[col_ordinales]\n",
    "col_categoricas = list(set(col_no_numericas) - set(col_ordinales))\n",
    "datos_categoricos = ames[col_categoricas]\n",
    "\n"
   ]
  },
  {
   "cell_type": "code",
   "execution_count": 66,
   "metadata": {},
   "outputs": [],
   "source": [
    "from sklearn.preprocessing import  Normalizer\n",
    "from sklearn.impute import SimpleImputer\n",
    "imp_mean = SimpleImputer(missing_values=np.nan, strategy='median')\n",
    "datos_imputer = imp_mean.fit_transform(datos_numericos);\n",
    "\n",
    "transformer = Normalizer().fit(datos_imputer)  # fit does nothing.\n",
    "dator_normalizados = transformer.transform(datos_imputer)\n",
    "datos_numericos_imputados_normalizados = pd.DataFrame(\n",
    "    dator_normalizados,\n",
    "    columns=datos_numericos.columns\n",
    ")"
   ]
  },
  {
   "cell_type": "code",
   "execution_count": 67,
   "metadata": {},
   "outputs": [],
   "source": [
    "datos_categoricos_dummy = pd.get_dummies(datos_categoricos, drop_first=True)\n"
   ]
  },
  {
   "cell_type": "code",
   "execution_count": 68,
   "metadata": {},
   "outputs": [
    {
     "name": "stderr",
     "output_type": "stream",
     "text": [
      "C:\\ProgramData\\Anaconda3\\lib\\site-packages\\ipykernel_launcher.py:5: SettingWithCopyWarning: \n",
      "A value is trying to be set on a copy of a slice from a DataFrame.\n",
      "Try using .loc[row_indexer,col_indexer] = value instead\n",
      "\n",
      "See the caveats in the documentation: https://pandas.pydata.org/pandas-docs/stable/user_guide/indexing.html#returning-a-view-versus-a-copy\n",
      "  \"\"\"\n"
     ]
    }
   ],
   "source": [
    "for columna_ordinal, valores in dict_var_ordinales.items():\n",
    "    datos_ordinales[columna_ordinal] = (\n",
    "    datos_ordinales[columna_ordinal]\n",
    "    .astype(\"category\")\n",
    "    .cat.set_categories(valores)\n",
    "    .cat.codes\n",
    ")\n",
    "    \n"
   ]
  },
  {
   "cell_type": "code",
   "execution_count": 69,
   "metadata": {},
   "outputs": [
    {
     "name": "stdout",
     "output_type": "stream",
     "text": [
      "area_parcela                  float64\n",
      "n_chimeneas                   float64\n",
      "n_cocinas                     float64\n",
      "n_dormitorios_sobre_suelo     float64\n",
      "area_habitable_sobre_suelo    float64\n",
      "calidad_material_exterior        int8\n",
      "calidad_chimeneas                int8\n",
      "dtype: object\n"
     ]
    }
   ],
   "source": [
    "\n",
    "ames_procesado = pd.concat([\n",
    "    datos_numericos_imputados_normalizados,\n",
    "    datos_categoricos_dummy,\n",
    "    datos_ordinales\n",
    "], axis=1)\n",
    "variable_objetivo = [\"precio_venta\"]\n",
    "variables = [\"area_parcela\",\"n_chimeneas\",\"n_cocinas\",\"n_dormitorios_sobre_suelo\",\"area_habitable_sobre_suelo\", \"calidad_material_exterior\",\"calidad_chimeneas\"]\n",
    "ames_X = ames_procesado[variables]\n",
    "ames_y = ames[variable_objetivo]\n",
    "\n",
    "\n",
    "print(ames_X.dtypes)"
   ]
  },
  {
   "cell_type": "code",
   "execution_count": 70,
   "metadata": {
    "scrolled": true
   },
   "outputs": [
    {
     "name": "stdout",
     "output_type": "stream",
     "text": [
      "41196.95894269321\n"
     ]
    }
   ],
   "source": [
    "\n",
    "\n",
    "\n",
    "from sklearn.model_selection import train_test_split\n",
    "from sklearn.linear_model import LinearRegression\n",
    "from sklearn.ensemble import RandomForestRegressor\n",
    "\n",
    "X_train, X_test ,y_train,  y_test = train_test_split(ames_X, ames_y)\n",
    "modelo = LinearRegression()\n",
    "modelo.fit(X=X_train,\n",
    "           y=y_train)\n",
    "\n",
    "y_pred = modelo.predict(X_test)\n",
    "\n",
    "#print(X_train, X_test)\n",
    "from sklearn.metrics import mean_squared_error\n",
    "mse = np.sqrt(mean_squared_error(y_test, y_pred))\n",
    "print(mse)"
   ]
  },
  {
   "cell_type": "code",
   "execution_count": 71,
   "metadata": {},
   "outputs": [
    {
     "name": "stdout",
     "output_type": "stream",
     "text": [
      "{'calidad_material_exterior': '[2, 3, 4, 1]', 'calidad_chimeneas': '[4, -1, 3, 1, 5, 2]'}\n"
     ]
    },
    {
     "data": {
      "text/plain": [
       "['dcategory_ames.pkl']"
      ]
     },
     "execution_count": 71,
     "metadata": {},
     "output_type": "execute_result"
    }
   ],
   "source": [
    "from sklearn.externals import joblib\n",
    "import json\n",
    "joblib.dump(modelo, 'modelo_ames.pkl') \n",
    "import json\n",
    "with open('columnas_names.json', 'w') as fname:\n",
    "    x_columnas = ames_X.columns.tolist()\n",
    "    json.dump(x_columnas, fname)\n",
    "\n",
    "x_category = {}\n",
    "x_dtypes = ames_X.dtypes\n",
    "for col in ames_X.select_dtypes(['int8']):\n",
    "    x_category[col] = json.dumps(ames_X[col].unique().tolist())\n",
    "        \n",
    "print(x_category)\n",
    "\n",
    "x_dtypes = {col: str(ames_X[col].dtype) for col in ames_X.columns}\n",
    "\n",
    "x_label = {col: col for col in ames_X.columns}\n",
    "joblib.dump(x_dtypes, 'dtypes_ames.pkl')\n",
    "joblib.dump(x_label, 'dlabel_ames.pkl')\n",
    "joblib.dump(x_category, 'dcategory_ames.pkl')"
   ]
  },
  {
   "cell_type": "code",
   "execution_count": null,
   "metadata": {},
   "outputs": [],
   "source": []
  },
  {
   "cell_type": "code",
   "execution_count": null,
   "metadata": {},
   "outputs": [],
   "source": []
  }
 ],
 "metadata": {
  "kernelspec": {
   "display_name": "Python 3",
   "language": "python",
   "name": "python3"
  },
  "language_info": {
   "codemirror_mode": {
    "name": "ipython",
    "version": 3
   },
   "file_extension": ".py",
   "mimetype": "text/x-python",
   "name": "python",
   "nbconvert_exporter": "python",
   "pygments_lexer": "ipython3",
   "version": "3.7.6"
  }
 },
 "nbformat": 4,
 "nbformat_minor": 4
}
