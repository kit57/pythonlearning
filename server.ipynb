{
 "cells": [
  {
   "cell_type": "code",
   "execution_count": null,
   "metadata": {},
   "outputs": [
    {
     "name": "stderr",
     "output_type": "stream",
     "text": [
      "C:\\ProgramData\\Anaconda3\\lib\\site-packages\\sklearn\\externals\\joblib\\__init__.py:15: FutureWarning: sklearn.externals.joblib is deprecated in 0.21 and will be removed in 0.23. Please import this functionality directly from joblib, which can be installed with: pip install joblib. If this warning is raised when loading pickled models, you may need to re-serialize those models with scikit-learn 0.21+.\n",
      "  warnings.warn(msg, category=FutureWarning)\n",
      " * Running on http://localhost:9012/ (Press CTRL+C to quit)\n",
      "127.0.0.1 - - [19/May/2020 21:27:22] \"\u001b[37mOPTIONS /getPrediccion HTTP/1.1\u001b[0m\" 200 -\n",
      "127.0.0.1 - - [19/May/2020 21:27:23] \"\u001b[37mPOST /getPrediccion HTTP/1.1\u001b[0m\" 200 -\n"
     ]
    },
    {
     "name": "stdout",
     "output_type": "stream",
     "text": [
      "[-762521412223027.0]\n"
     ]
    },
    {
     "name": "stderr",
     "output_type": "stream",
     "text": [
      "127.0.0.1 - - [19/May/2020 21:27:32] \"\u001b[37mOPTIONS /getPrediccion HTTP/1.1\u001b[0m\" 200 -\n",
      "127.0.0.1 - - [19/May/2020 21:27:32] \"\u001b[37mPOST /getPrediccion HTTP/1.1\u001b[0m\" 200 -\n"
     ]
    },
    {
     "name": "stdout",
     "output_type": "stream",
     "text": [
      "[-762521412223027.0]\n"
     ]
    },
    {
     "name": "stderr",
     "output_type": "stream",
     "text": [
      "127.0.0.1 - - [19/May/2020 21:28:18] \"\u001b[37mOPTIONS /getPrediccion HTTP/1.1\u001b[0m\" 200 -\n",
      "127.0.0.1 - - [19/May/2020 21:28:18] \"\u001b[37mPOST /getPrediccion HTTP/1.1\u001b[0m\" 200 -\n"
     ]
    },
    {
     "name": "stdout",
     "output_type": "stream",
     "text": [
      "[-762521412223027.0]\n"
     ]
    },
    {
     "name": "stderr",
     "output_type": "stream",
     "text": [
      "127.0.0.1 - - [19/May/2020 21:28:53] \"\u001b[37mOPTIONS /getPrediccion HTTP/1.1\u001b[0m\" 200 -\n",
      "127.0.0.1 - - [19/May/2020 21:28:53] \"\u001b[37mPOST /getPrediccion HTTP/1.1\u001b[0m\" 200 -\n"
     ]
    },
    {
     "name": "stdout",
     "output_type": "stream",
     "text": [
      "[-762521412223027.0]\n"
     ]
    }
   ],
   "source": [
    "import json\n",
    "import pandas as pd\n",
    "from decimal import Decimal\n",
    "from sklearn.externals import joblib\n",
    "from flask_cors import CORS, cross_origin\n",
    "from werkzeug.wrappers import Request, Response\n",
    "from flask import Flask, jsonify, request\n",
    "\n",
    "\n",
    "with open('columnas_names.json') as fname:\n",
    "    model_columnas = json.load(fname)\n",
    "model = joblib.load(\"modelo_ames.pkl\")\n",
    "model_dtypes = joblib.load(\"dtypes_ames.pkl\")\n",
    "\n",
    "app = Flask(__name__)\n",
    "cors = CORS(app)\n",
    "datos = pd.read_csv('ames.csv', nrows= 1e3)\n",
    "variables = [\"area_parcela\",\"area_piscina\",\"n_chimeneas\",\"n_cocinas\",\"n_dormitorios_sobre_suelo\",\"area_habitable_sobre_suelo\", \"calidad_general\"]\n",
    "\n",
    "predecir = datos[variables]\n",
    "\n",
    "def dict_a_df(obs, columnas, dtypes):\n",
    "    obs_df = pd.DataFrame([obs])\n",
    "    for col, dtype in dtypes.items():\n",
    "        if col in obs_df.columns:\n",
    "            obs_df[col] = obs_df[col].astype(dtype)\n",
    "        else:\n",
    "            obs_df[col] = None\n",
    "    return obs_df\n",
    "\n",
    "app.config['CORS_HEADERS'] = 'Content-Type'\n",
    "\n",
    "\n",
    "\n",
    "\n",
    "@app.route('/getDatos')\n",
    "@cross_origin()\n",
    "def getDatos():\n",
    "    datosJson = datos[variables].to_json()\n",
    "    print(datosJson)\n",
    "    return jsonify({'datos': datosJson})\n",
    "\n",
    "@app.route('/getPrediccion' , methods=['POST'])\n",
    "@cross_origin()\n",
    "def predecir():\n",
    "    observacion_dict = request.get_json()\n",
    "    obs_df = pd.DataFrame([observacion_dict])\n",
    "    #obs_df = dict_a_df(observacion_dict, model_columnas, model_dtypes)\n",
    "    prediccion = model.predict(obs_df)[0].tolist()\n",
    "    print(prediccion)\n",
    "    json_str = json.dumps(prediccion)\n",
    "    return json_str\n",
    "\n",
    "if __name__ == \"__main__\":\n",
    "    from werkzeug.serving import run_simple\n",
    "    run_simple('localhost', 9012, app)"
   ]
  }
 ],
 "metadata": {
  "kernelspec": {
   "display_name": "Python 3",
   "language": "python",
   "name": "python3"
  },
  "language_info": {
   "codemirror_mode": {
    "name": "ipython",
    "version": 3
   },
   "file_extension": ".py",
   "mimetype": "text/x-python",
   "name": "python",
   "nbconvert_exporter": "python",
   "pygments_lexer": "ipython3",
   "version": "3.7.6"
  }
 },
 "nbformat": 4,
 "nbformat_minor": 4
}
