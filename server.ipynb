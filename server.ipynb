{
 "cells": [
  {
   "cell_type": "code",
   "execution_count": null,
   "metadata": {},
   "outputs": [
    {
     "name": "stderr",
     "output_type": "stream",
     "text": [
      "C:\\ProgramData\\Anaconda3\\lib\\site-packages\\sklearn\\externals\\joblib\\__init__.py:15: FutureWarning: sklearn.externals.joblib is deprecated in 0.21 and will be removed in 0.23. Please import this functionality directly from joblib, which can be installed with: pip install joblib. If this warning is raised when loading pickled models, you may need to re-serialize those models with scikit-learn 0.21+.\n",
      "  warnings.warn(msg, category=FutureWarning)\n",
      " * Running on http://localhost:9012/ (Press CTRL+C to quit)\n",
      "127.0.0.1 - - [21/May/2020 19:00:05] \"\u001b[37mOPTIONS /getVariables HTTP/1.1\u001b[0m\" 200 -\n",
      "127.0.0.1 - - [21/May/2020 19:00:05] \"\u001b[37mGET /getVariables HTTP/1.1\u001b[0m\" 200 -\n",
      "127.0.0.1 - - [21/May/2020 19:44:57] \"\u001b[37mOPTIONS /getVariables HTTP/1.1\u001b[0m\" 200 -\n",
      "127.0.0.1 - - [21/May/2020 19:44:57] \"\u001b[37mGET /getVariables HTTP/1.1\u001b[0m\" 200 -\n",
      "127.0.0.1 - - [21/May/2020 19:45:59] \"\u001b[37mOPTIONS /getVariables HTTP/1.1\u001b[0m\" 200 -\n",
      "127.0.0.1 - - [21/May/2020 19:45:59] \"\u001b[37mGET /getVariables HTTP/1.1\u001b[0m\" 200 -\n",
      "127.0.0.1 - - [21/May/2020 19:50:52] \"\u001b[37mOPTIONS /getVariables HTTP/1.1\u001b[0m\" 200 -\n",
      "127.0.0.1 - - [21/May/2020 19:50:52] \"\u001b[37mGET /getVariables HTTP/1.1\u001b[0m\" 200 -\n",
      "127.0.0.1 - - [21/May/2020 19:54:26] \"\u001b[37mOPTIONS /getVariables HTTP/1.1\u001b[0m\" 200 -\n",
      "127.0.0.1 - - [21/May/2020 19:54:26] \"\u001b[37mGET /getVariables HTTP/1.1\u001b[0m\" 200 -\n",
      "127.0.0.1 - - [21/May/2020 19:55:29] \"\u001b[37mOPTIONS /getVariables HTTP/1.1\u001b[0m\" 200 -\n",
      "127.0.0.1 - - [21/May/2020 19:55:30] \"\u001b[37mGET /getVariables HTTP/1.1\u001b[0m\" 200 -\n",
      "127.0.0.1 - - [21/May/2020 19:56:52] \"\u001b[37mOPTIONS /getVariables HTTP/1.1\u001b[0m\" 200 -\n",
      "127.0.0.1 - - [21/May/2020 19:56:52] \"\u001b[37mGET /getVariables HTTP/1.1\u001b[0m\" 200 -\n",
      "127.0.0.1 - - [21/May/2020 19:58:01] \"\u001b[37mOPTIONS /getVariables HTTP/1.1\u001b[0m\" 200 -\n",
      "127.0.0.1 - - [21/May/2020 19:58:01] \"\u001b[37mGET /getVariables HTTP/1.1\u001b[0m\" 200 -\n",
      "127.0.0.1 - - [21/May/2020 19:59:42] \"\u001b[37mOPTIONS /getVariables HTTP/1.1\u001b[0m\" 200 -\n",
      "127.0.0.1 - - [21/May/2020 19:59:42] \"\u001b[37mGET /getVariables HTTP/1.1\u001b[0m\" 200 -\n",
      "127.0.0.1 - - [21/May/2020 20:00:15] \"\u001b[37mOPTIONS /getVariables HTTP/1.1\u001b[0m\" 200 -\n",
      "127.0.0.1 - - [21/May/2020 20:00:15] \"\u001b[37mGET /getVariables HTTP/1.1\u001b[0m\" 200 -\n",
      "127.0.0.1 - - [21/May/2020 20:01:02] \"\u001b[37mOPTIONS /getVariables HTTP/1.1\u001b[0m\" 200 -\n",
      "127.0.0.1 - - [21/May/2020 20:01:02] \"\u001b[37mGET /getVariables HTTP/1.1\u001b[0m\" 200 -\n",
      "127.0.0.1 - - [21/May/2020 20:04:16] \"\u001b[37mOPTIONS /getVariables HTTP/1.1\u001b[0m\" 200 -\n",
      "127.0.0.1 - - [21/May/2020 20:04:16] \"\u001b[37mGET /getVariables HTTP/1.1\u001b[0m\" 200 -\n",
      "127.0.0.1 - - [21/May/2020 20:07:47] \"\u001b[37mOPTIONS /getVariables HTTP/1.1\u001b[0m\" 200 -\n",
      "127.0.0.1 - - [21/May/2020 20:07:47] \"\u001b[37mGET /getVariables HTTP/1.1\u001b[0m\" 200 -\n",
      "127.0.0.1 - - [21/May/2020 20:09:09] \"\u001b[37mOPTIONS /getPrediccion HTTP/1.1\u001b[0m\" 200 -\n",
      "127.0.0.1 - - [21/May/2020 20:09:10] \"\u001b[37mPOST /getPrediccion HTTP/1.1\u001b[0m\" 200 -\n"
     ]
    },
    {
     "name": "stdout",
     "output_type": "stream",
     "text": [
      "{'area_parcela': 12, 'n_chimeneas': 12, 'n_cocinas': 12, 'n_dormitorios_sobre_suelo': 12, 'area_habitable_sobre_suelo': 12, 'calidad_general': 12}\n"
     ]
    },
    {
     "name": "stderr",
     "output_type": "stream",
     "text": [
      "127.0.0.1 - - [21/May/2020 20:12:29] \"\u001b[37mOPTIONS /getVariables HTTP/1.1\u001b[0m\" 200 -\n",
      "127.0.0.1 - - [21/May/2020 20:12:29] \"\u001b[37mGET /getVariables HTTP/1.1\u001b[0m\" 200 -\n",
      "127.0.0.1 - - [21/May/2020 20:13:17] \"\u001b[37mOPTIONS /getVariables HTTP/1.1\u001b[0m\" 200 -\n",
      "127.0.0.1 - - [21/May/2020 20:13:18] \"\u001b[37mGET /getVariables HTTP/1.1\u001b[0m\" 200 -\n",
      "127.0.0.1 - - [21/May/2020 20:17:21] \"\u001b[37mOPTIONS /getVariables HTTP/1.1\u001b[0m\" 200 -\n",
      "127.0.0.1 - - [21/May/2020 20:17:21] \"\u001b[37mGET /getVariables HTTP/1.1\u001b[0m\" 200 -\n",
      "127.0.0.1 - - [21/May/2020 20:17:48] \"\u001b[37mOPTIONS /getPrediccion HTTP/1.1\u001b[0m\" 200 -\n",
      "127.0.0.1 - - [21/May/2020 20:17:48] \"\u001b[37mPOST /getPrediccion HTTP/1.1\u001b[0m\" 200 -\n"
     ]
    },
    {
     "name": "stdout",
     "output_type": "stream",
     "text": [
      "{'area_parcela': 12, 'n_chimeneas': 12, 'n_cocinas': 12, 'n_dormitorios_sobre_suelo': 12, 'area_habitable_sobre_suelo': 12, 'calidad_general': 12}\n"
     ]
    },
    {
     "name": "stderr",
     "output_type": "stream",
     "text": [
      "127.0.0.1 - - [21/May/2020 20:18:41] \"\u001b[37mOPTIONS /getVariables HTTP/1.1\u001b[0m\" 200 -\n",
      "127.0.0.1 - - [21/May/2020 20:18:41] \"\u001b[37mGET /getVariables HTTP/1.1\u001b[0m\" 200 -\n",
      "127.0.0.1 - - [21/May/2020 20:19:37] \"\u001b[37mOPTIONS /getVariables HTTP/1.1\u001b[0m\" 200 -\n",
      "127.0.0.1 - - [21/May/2020 20:19:37] \"\u001b[37mGET /getVariables HTTP/1.1\u001b[0m\" 200 -\n",
      "127.0.0.1 - - [21/May/2020 20:20:14] \"\u001b[37mOPTIONS /getVariables HTTP/1.1\u001b[0m\" 200 -\n",
      "127.0.0.1 - - [21/May/2020 20:20:14] \"\u001b[37mGET /getVariables HTTP/1.1\u001b[0m\" 200 -\n",
      "127.0.0.1 - - [21/May/2020 20:20:53] \"\u001b[37mOPTIONS /getPrediccion HTTP/1.1\u001b[0m\" 200 -\n",
      "127.0.0.1 - - [21/May/2020 20:20:54] \"\u001b[37mPOST /getPrediccion HTTP/1.1\u001b[0m\" 200 -\n"
     ]
    },
    {
     "name": "stdout",
     "output_type": "stream",
     "text": [
      "{'area_parcela': 12, 'n_chimeneas': 12, 'n_cocinas': 12, 'n_dormitorios_sobre_suelo': 12, 'area_habitable_sobre_suelo': 12, 'calidad_general': 12}\n"
     ]
    },
    {
     "name": "stderr",
     "output_type": "stream",
     "text": [
      "127.0.0.1 - - [21/May/2020 20:23:28] \"\u001b[37mOPTIONS /getVariables HTTP/1.1\u001b[0m\" 200 -\n",
      "127.0.0.1 - - [21/May/2020 20:23:28] \"\u001b[37mGET /getVariables HTTP/1.1\u001b[0m\" 200 -\n",
      "127.0.0.1 - - [21/May/2020 20:23:59] \"\u001b[37mOPTIONS /getVariables HTTP/1.1\u001b[0m\" 200 -\n",
      "127.0.0.1 - - [21/May/2020 20:24:00] \"\u001b[37mGET /getVariables HTTP/1.1\u001b[0m\" 200 -\n",
      "127.0.0.1 - - [21/May/2020 20:24:03] \"\u001b[37mOPTIONS /getPrediccion HTTP/1.1\u001b[0m\" 200 -\n",
      "127.0.0.1 - - [21/May/2020 20:24:04] \"\u001b[37mPOST /getPrediccion HTTP/1.1\u001b[0m\" 200 -\n"
     ]
    },
    {
     "name": "stdout",
     "output_type": "stream",
     "text": [
      "{'area_parcela': 12, 'n_chimeneas': 12, 'n_cocinas': 12, 'n_dormitorios_sobre_suelo': 12, 'area_habitable_sobre_suelo': 12, 'calidad_general': 12}\n"
     ]
    },
    {
     "name": "stderr",
     "output_type": "stream",
     "text": [
      "127.0.0.1 - - [21/May/2020 20:26:09] \"\u001b[37mOPTIONS /getPrediccion HTTP/1.1\u001b[0m\" 200 -\n",
      "127.0.0.1 - - [21/May/2020 20:26:13] \"\u001b[37mOPTIONS /getVariables HTTP/1.1\u001b[0m\" 200 -\n",
      "127.0.0.1 - - [21/May/2020 20:26:13] \"\u001b[37mGET /getVariables HTTP/1.1\u001b[0m\" 200 -\n",
      "127.0.0.1 - - [21/May/2020 20:26:34] \"\u001b[37mOPTIONS /getVariables HTTP/1.1\u001b[0m\" 200 -\n",
      "127.0.0.1 - - [21/May/2020 20:26:34] \"\u001b[37mGET /getVariables HTTP/1.1\u001b[0m\" 200 -\n",
      "127.0.0.1 - - [21/May/2020 20:26:43] \"\u001b[37mOPTIONS /getPrediccion HTTP/1.1\u001b[0m\" 200 -\n",
      "127.0.0.1 - - [21/May/2020 20:26:44] \"\u001b[37mPOST /getPrediccion HTTP/1.1\u001b[0m\" 200 -\n"
     ]
    },
    {
     "name": "stdout",
     "output_type": "stream",
     "text": [
      "{'area_parcela': 12, 'n_chimeneas': 12, 'n_cocinas': 12, 'n_dormitorios_sobre_suelo': 12, 'area_habitable_sobre_suelo': 12, 'calidad_general': 12}\n"
     ]
    },
    {
     "name": "stderr",
     "output_type": "stream",
     "text": [
      "127.0.0.1 - - [21/May/2020 22:23:09] \"\u001b[37mOPTIONS /getVariables HTTP/1.1\u001b[0m\" 200 -\n",
      "127.0.0.1 - - [21/May/2020 22:23:09] \"\u001b[37mGET /getVariables HTTP/1.1\u001b[0m\" 200 -\n",
      "127.0.0.1 - - [21/May/2020 22:34:18] \"\u001b[37mOPTIONS /getVariables HTTP/1.1\u001b[0m\" 200 -\n",
      "127.0.0.1 - - [21/May/2020 22:34:19] \"\u001b[37mGET /getVariables HTTP/1.1\u001b[0m\" 200 -\n",
      "127.0.0.1 - - [21/May/2020 22:35:07] \"\u001b[37mOPTIONS /getVariables HTTP/1.1\u001b[0m\" 200 -\n",
      "127.0.0.1 - - [21/May/2020 22:35:08] \"\u001b[37mGET /getVariables HTTP/1.1\u001b[0m\" 200 -\n",
      "127.0.0.1 - - [21/May/2020 22:35:37] \"\u001b[37mOPTIONS /getVariables HTTP/1.1\u001b[0m\" 200 -\n",
      "127.0.0.1 - - [21/May/2020 22:35:37] \"\u001b[37mGET /getVariables HTTP/1.1\u001b[0m\" 200 -\n",
      "127.0.0.1 - - [21/May/2020 22:37:29] \"\u001b[37mOPTIONS /getVariables HTTP/1.1\u001b[0m\" 200 -\n",
      "127.0.0.1 - - [21/May/2020 22:37:29] \"\u001b[37mGET /getVariables HTTP/1.1\u001b[0m\" 200 -\n",
      "127.0.0.1 - - [21/May/2020 22:38:40] \"\u001b[37mOPTIONS /getVariables HTTP/1.1\u001b[0m\" 200 -\n",
      "127.0.0.1 - - [21/May/2020 22:38:40] \"\u001b[37mGET /getVariables HTTP/1.1\u001b[0m\" 200 -\n",
      "127.0.0.1 - - [21/May/2020 22:39:13] \"\u001b[37mOPTIONS /getVariables HTTP/1.1\u001b[0m\" 200 -\n",
      "127.0.0.1 - - [21/May/2020 22:39:14] \"\u001b[37mGET /getVariables HTTP/1.1\u001b[0m\" 200 -\n",
      "127.0.0.1 - - [21/May/2020 22:40:00] \"\u001b[37mOPTIONS /getVariables HTTP/1.1\u001b[0m\" 200 -\n",
      "127.0.0.1 - - [21/May/2020 22:40:00] \"\u001b[37mGET /getVariables HTTP/1.1\u001b[0m\" 200 -\n",
      "127.0.0.1 - - [21/May/2020 22:40:34] \"\u001b[37mOPTIONS /getVariables HTTP/1.1\u001b[0m\" 200 -\n",
      "127.0.0.1 - - [21/May/2020 22:40:34] \"\u001b[37mGET /getVariables HTTP/1.1\u001b[0m\" 200 -\n",
      "127.0.0.1 - - [21/May/2020 22:41:47] \"\u001b[37mOPTIONS /getVariables HTTP/1.1\u001b[0m\" 200 -\n",
      "127.0.0.1 - - [21/May/2020 22:41:47] \"\u001b[37mGET /getVariables HTTP/1.1\u001b[0m\" 200 -\n",
      "127.0.0.1 - - [21/May/2020 22:42:06] \"\u001b[37mOPTIONS /getVariables HTTP/1.1\u001b[0m\" 200 -\n",
      "127.0.0.1 - - [21/May/2020 22:42:07] \"\u001b[37mGET /getVariables HTTP/1.1\u001b[0m\" 200 -\n",
      "127.0.0.1 - - [21/May/2020 22:42:30] \"\u001b[37mOPTIONS /getVariables HTTP/1.1\u001b[0m\" 200 -\n",
      "127.0.0.1 - - [21/May/2020 22:42:30] \"\u001b[37mGET /getVariables HTTP/1.1\u001b[0m\" 200 -\n",
      "127.0.0.1 - - [21/May/2020 22:42:44] \"\u001b[37mOPTIONS /getVariables HTTP/1.1\u001b[0m\" 200 -\n",
      "127.0.0.1 - - [21/May/2020 22:42:44] \"\u001b[37mGET /getVariables HTTP/1.1\u001b[0m\" 200 -\n",
      "127.0.0.1 - - [21/May/2020 22:45:15] \"\u001b[37mOPTIONS /getVariables HTTP/1.1\u001b[0m\" 200 -\n",
      "127.0.0.1 - - [21/May/2020 22:45:16] \"\u001b[37mGET /getVariables HTTP/1.1\u001b[0m\" 200 -\n",
      "127.0.0.1 - - [21/May/2020 22:45:32] \"\u001b[37mOPTIONS /getVariables HTTP/1.1\u001b[0m\" 200 -\n",
      "127.0.0.1 - - [21/May/2020 22:45:32] \"\u001b[37mGET /getVariables HTTP/1.1\u001b[0m\" 200 -\n",
      "127.0.0.1 - - [21/May/2020 22:45:37] \"\u001b[37mOPTIONS /getDatos HTTP/1.1\u001b[0m\" 200 -\n",
      "127.0.0.1 - - [21/May/2020 22:45:37] \"\u001b[31m\u001b[1mGET /getDatos HTTP/1.1\u001b[0m\" 405 -\n",
      "127.0.0.1 - - [21/May/2020 22:45:42] \"\u001b[37mOPTIONS /getVariables HTTP/1.1\u001b[0m\" 200 -\n",
      "127.0.0.1 - - [21/May/2020 22:45:43] \"\u001b[37mGET /getVariables HTTP/1.1\u001b[0m\" 200 -\n",
      "127.0.0.1 - - [21/May/2020 22:53:07] \"\u001b[37mOPTIONS /getVariables HTTP/1.1\u001b[0m\" 200 -\n",
      "127.0.0.1 - - [21/May/2020 22:53:08] \"\u001b[37mGET /getVariables HTTP/1.1\u001b[0m\" 200 -\n",
      "127.0.0.1 - - [21/May/2020 22:54:54] \"\u001b[37mOPTIONS /getVariables HTTP/1.1\u001b[0m\" 200 -\n",
      "127.0.0.1 - - [21/May/2020 22:54:54] \"\u001b[37mGET /getVariables HTTP/1.1\u001b[0m\" 200 -\n",
      "127.0.0.1 - - [21/May/2020 22:54:56] \"\u001b[37mOPTIONS /getDatos HTTP/1.1\u001b[0m\" 200 -\n",
      "127.0.0.1 - - [21/May/2020 22:54:56] \"\u001b[31m\u001b[1mPOST /getDatos HTTP/1.1\u001b[0m\" 400 -\n",
      "127.0.0.1 - - [21/May/2020 22:54:58] \"\u001b[31m\u001b[1mPOST /getDatos HTTP/1.1\u001b[0m\" 400 -\n",
      "127.0.0.1 - - [21/May/2020 22:55:01] \"\u001b[31m\u001b[1mPOST /getDatos HTTP/1.1\u001b[0m\" 400 -\n",
      "127.0.0.1 - - [21/May/2020 22:55:02] \"\u001b[37mOPTIONS /getDatos HTTP/1.1\u001b[0m\" 200 -\n",
      "127.0.0.1 - - [21/May/2020 22:55:03] \"\u001b[31m\u001b[1mPOST /getDatos HTTP/1.1\u001b[0m\" 400 -\n",
      "127.0.0.1 - - [21/May/2020 22:55:03] \"\u001b[31m\u001b[1mPOST /getDatos HTTP/1.1\u001b[0m\" 400 -\n",
      "127.0.0.1 - - [21/May/2020 22:55:04] \"\u001b[31m\u001b[1mPOST /getDatos HTTP/1.1\u001b[0m\" 400 -\n",
      "127.0.0.1 - - [21/May/2020 22:55:04] \"\u001b[31m\u001b[1mPOST /getDatos HTTP/1.1\u001b[0m\" 400 -\n",
      "127.0.0.1 - - [21/May/2020 22:55:05] \"\u001b[31m\u001b[1mPOST /getDatos HTTP/1.1\u001b[0m\" 400 -\n",
      "127.0.0.1 - - [21/May/2020 22:55:05] \"\u001b[31m\u001b[1mPOST /getDatos HTTP/1.1\u001b[0m\" 400 -\n",
      "127.0.0.1 - - [21/May/2020 22:55:06] \"\u001b[31m\u001b[1mPOST /getDatos HTTP/1.1\u001b[0m\" 400 -\n",
      "127.0.0.1 - - [21/May/2020 22:55:06] \"\u001b[31m\u001b[1mPOST /getDatos HTTP/1.1\u001b[0m\" 400 -\n",
      "127.0.0.1 - - [21/May/2020 22:58:34] \"\u001b[37mOPTIONS /getDatos HTTP/1.1\u001b[0m\" 200 -\n",
      "127.0.0.1 - - [21/May/2020 22:58:34] \"\u001b[31m\u001b[1mPOST /getDatos HTTP/1.1\u001b[0m\" 400 -\n",
      "127.0.0.1 - - [21/May/2020 22:59:16] \"\u001b[37mOPTIONS /getVariables HTTP/1.1\u001b[0m\" 200 -\n",
      "127.0.0.1 - - [21/May/2020 22:59:17] \"\u001b[37mGET /getVariables HTTP/1.1\u001b[0m\" 200 -\n",
      "127.0.0.1 - - [21/May/2020 22:59:30] \"\u001b[37mOPTIONS /getVariables HTTP/1.1\u001b[0m\" 200 -\n",
      "127.0.0.1 - - [21/May/2020 22:59:31] \"\u001b[37mGET /getVariables HTTP/1.1\u001b[0m\" 200 -\n",
      "127.0.0.1 - - [21/May/2020 22:59:37] \"\u001b[37mOPTIONS /getPrediccion HTTP/1.1\u001b[0m\" 200 -\n",
      "127.0.0.1 - - [21/May/2020 22:59:38] \"\u001b[37mPOST /getPrediccion HTTP/1.1\u001b[0m\" 200 -\n"
     ]
    },
    {
     "name": "stdout",
     "output_type": "stream",
     "text": [
      "{'area_parcela': 12, 'n_chimeneas': 12, 'n_cocinas': 12, 'n_dormitorios_sobre_suelo': 12, 'area_habitable_sobre_suelo': 12, 'calidad_general': 12}\n"
     ]
    },
    {
     "name": "stderr",
     "output_type": "stream",
     "text": [
      "127.0.0.1 - - [21/May/2020 22:59:50] \"\u001b[37mOPTIONS /getDatos HTTP/1.1\u001b[0m\" 200 -\n",
      "127.0.0.1 - - [21/May/2020 22:59:51] \"\u001b[31m\u001b[1mPOST /getDatos HTTP/1.1\u001b[0m\" 400 -\n",
      "127.0.0.1 - - [21/May/2020 23:06:02] \"\u001b[37mOPTIONS /getDatos HTTP/1.1\u001b[0m\" 200 -\n",
      "127.0.0.1 - - [21/May/2020 23:06:02] \"\u001b[31m\u001b[1mPOST /getDatos HTTP/1.1\u001b[0m\" 400 -\n",
      "127.0.0.1 - - [21/May/2020 23:07:44] \"\u001b[37mOPTIONS /getDatos HTTP/1.1\u001b[0m\" 200 -\n",
      "[2020-05-21 23:07:44,565] ERROR in app: Exception on /getDatos [POST]\n",
      "Traceback (most recent call last):\n",
      "  File \"C:\\ProgramData\\Anaconda3\\lib\\site-packages\\flask\\app.py\", line 2446, in wsgi_app\n",
      "    response = self.full_dispatch_request()\n",
      "  File \"C:\\ProgramData\\Anaconda3\\lib\\site-packages\\flask\\app.py\", line 1951, in full_dispatch_request\n",
      "    rv = self.handle_user_exception(e)\n",
      "  File \"C:\\ProgramData\\Anaconda3\\lib\\site-packages\\flask_cors\\extension.py\", line 161, in wrapped_function\n",
      "    return cors_after_request(app.make_response(f(*args, **kwargs)))\n",
      "  File \"C:\\ProgramData\\Anaconda3\\lib\\site-packages\\flask\\app.py\", line 1820, in handle_user_exception\n",
      "    reraise(exc_type, exc_value, tb)\n",
      "  File \"C:\\ProgramData\\Anaconda3\\lib\\site-packages\\flask\\_compat.py\", line 39, in reraise\n",
      "    raise value\n",
      "  File \"C:\\ProgramData\\Anaconda3\\lib\\site-packages\\flask\\app.py\", line 1949, in full_dispatch_request\n",
      "    rv = self.dispatch_request()\n",
      "  File \"C:\\ProgramData\\Anaconda3\\lib\\site-packages\\flask\\app.py\", line 1935, in dispatch_request\n",
      "    return self.view_functions[rule.endpoint](**req.view_args)\n",
      "  File \"C:\\ProgramData\\Anaconda3\\lib\\site-packages\\flask_cors\\decorator.py\", line 128, in wrapped_function\n",
      "    resp = make_response(f(*args, **kwargs))\n",
      "  File \"<ipython-input-1-033baa4327ae>\", line 50, in getDatos\n",
      "    datosJson = datos[listaFiltro].T.to_json(orient='values')\n",
      "  File \"C:\\ProgramData\\Anaconda3\\lib\\site-packages\\pandas\\core\\frame.py\", line 2806, in __getitem__\n",
      "    indexer = self.loc._get_listlike_indexer(key, axis=1, raise_missing=True)[1]\n",
      "  File \"C:\\ProgramData\\Anaconda3\\lib\\site-packages\\pandas\\core\\indexing.py\", line 1546, in _get_listlike_indexer\n",
      "    indexer = ax.get_indexer_for(key)\n",
      "  File \"C:\\ProgramData\\Anaconda3\\lib\\site-packages\\pandas\\core\\indexes\\base.py\", line 4502, in get_indexer_for\n",
      "    return self.get_indexer(target, **kwargs)\n",
      "  File \"C:\\ProgramData\\Anaconda3\\lib\\site-packages\\pandas\\core\\indexes\\base.py\", line 2753, in get_indexer\n",
      "    indexer = self._engine.get_indexer(target._ndarray_values)\n",
      "  File \"pandas\\_libs\\index.pyx\", line 287, in pandas._libs.index.IndexEngine.get_indexer\n",
      "  File \"pandas\\_libs\\hashtable_class_helper.pxi\", line 1667, in pandas._libs.hashtable.PyObjectHashTable.lookup\n",
      "TypeError: unhashable type: 'dict'\n",
      "127.0.0.1 - - [21/May/2020 23:07:44] \"\u001b[35m\u001b[1mPOST /getDatos HTTP/1.1\u001b[0m\" 500 -\n",
      "127.0.0.1 - - [21/May/2020 23:08:15] \"\u001b[37mOPTIONS /getDatos HTTP/1.1\u001b[0m\" 200 -\n",
      "127.0.0.1 - - [21/May/2020 23:08:20] \"\u001b[37mPOST /getDatos HTTP/1.1\u001b[0m\" 200 -\n",
      "127.0.0.1 - - [21/May/2020 23:08:40] \"\u001b[37mOPTIONS /getDatos HTTP/1.1\u001b[0m\" 200 -\n",
      "127.0.0.1 - - [21/May/2020 23:08:40] \"\u001b[37mPOST /getDatos HTTP/1.1\u001b[0m\" 200 -\n",
      "127.0.0.1 - - [21/May/2020 23:08:44] \"\u001b[37mPOST /getDatos HTTP/1.1\u001b[0m\" 200 -\n",
      "127.0.0.1 - - [21/May/2020 23:08:46] \"\u001b[37mOPTIONS /getDatos HTTP/1.1\u001b[0m\" 200 -\n",
      "127.0.0.1 - - [21/May/2020 23:08:47] \"\u001b[37mPOST /getDatos HTTP/1.1\u001b[0m\" 200 -\n",
      "127.0.0.1 - - [21/May/2020 23:08:49] \"\u001b[37mOPTIONS /getVariables HTTP/1.1\u001b[0m\" 200 -\n",
      "127.0.0.1 - - [21/May/2020 23:08:50] \"\u001b[37mGET /getVariables HTTP/1.1\u001b[0m\" 200 -\n",
      "127.0.0.1 - - [21/May/2020 23:09:06] \"\u001b[37mOPTIONS /getVariables HTTP/1.1\u001b[0m\" 200 -\n",
      "127.0.0.1 - - [21/May/2020 23:09:06] \"\u001b[37mGET /getVariables HTTP/1.1\u001b[0m\" 200 -\n",
      "127.0.0.1 - - [21/May/2020 23:10:58] \"\u001b[37mOPTIONS /getVariables HTTP/1.1\u001b[0m\" 200 -\n",
      "127.0.0.1 - - [21/May/2020 23:10:58] \"\u001b[37mGET /getVariables HTTP/1.1\u001b[0m\" 200 -\n"
     ]
    }
   ],
   "source": [
    "import json\n",
    "import pandas as pd\n",
    "from decimal import Decimal\n",
    "from sklearn.externals import joblib\n",
    "from flask_cors import CORS, cross_origin\n",
    "from werkzeug.wrappers import Request, Response\n",
    "from flask import Flask, jsonify, request\n",
    "\n",
    "\n",
    "with open('columnas_names.json') as fname:\n",
    "    model_columnas = json.load(fname)\n",
    "model = joblib.load(\"modelo_ames.pkl\")\n",
    "model_dtypes = joblib.load(\"dtypes_ames.pkl\")\n",
    "\n",
    "app = Flask(__name__)\n",
    "cors = CORS(app)\n",
    "datos = pd.read_csv('ames.csv', nrows= 1e3)\n",
    "variables = [\"area_parcela\",\"n_chimeneas\",\"n_cocinas\",\"n_dormitorios_sobre_suelo\",\"area_habitable_sobre_suelo\", \"calidad_general\"]\n",
    "variable_objetivo = [\"precio_venta\"]\n",
    "getDatosVariables =[\"area_parcela\",\"n_chimeneas\",\"n_cocinas\",\"n_dormitorios_sobre_suelo\",\"area_habitable_sobre_suelo\", \"calidad_general\",\"precio_venta\"]\n",
    "predecir = datos[variables]\n",
    "\n",
    "def dict_a_df(obs, columnas, dtypes):\n",
    "    obs_df = pd.DataFrame([obs])\n",
    "    for col, dtype in dtypes.items():\n",
    "        if col in obs_df.columns:\n",
    "            obs_df[col] = obs_df[col].astype(dtype)\n",
    "        else:\n",
    "            obs_df[col] = None\n",
    "    return obs_df\n",
    "\n",
    "app.config['CORS_HEADERS'] = 'Content-Type'\n",
    "\n",
    "@app.route('/getVariables', methods=['GET'])\n",
    "@cross_origin()\n",
    "def getVariables():\n",
    "    json_types = json.dumps(model_dtypes)\n",
    "    json_label = json.dumps(model_columnas)\n",
    "    json_variables = json.dumps(model_columnas)\n",
    "    return jsonify({'variables': {'tipos': model_dtypes, 'label': model_columnas , 'variables':model_columnas}})\n",
    "\n",
    "\n",
    "@app.route('/getDatos', methods=['POST'])\n",
    "@cross_origin()\n",
    "def getDatos():\n",
    "    filtro = request.get_json()\n",
    "    listaFiltro = []\n",
    "    listaFiltro.append(filtro)\n",
    "    listaFiltro.append(\"precio_venta\")\n",
    "    datosJson = datos[listaFiltro].T.to_json(orient='values')\n",
    "    return datosJson\n",
    "\n",
    "@app.route('/getPrediccion' , methods=['POST'])\n",
    "@cross_origin()\n",
    "def predecir():\n",
    "    observacion_dict = request.get_json()\n",
    "    print(observacion_dict);\n",
    "    obs_df = pd.DataFrame([observacion_dict])\n",
    "    #obs_df = dict_a_df(observacion_dict, model_columnas, model_dtypes)\n",
    "    prediccion = model.predict(obs_df)[0].tolist()\n",
    "    json_str = json.dumps(prediccion)\n",
    "    return json_str\n",
    "\n",
    "if __name__ == \"__main__\":\n",
    "    from werkzeug.serving import run_simple\n",
    "    run_simple('localhost', 9012, app)"
   ]
  }
 ],
 "metadata": {
  "kernelspec": {
   "display_name": "Python 3",
   "language": "python",
   "name": "python3"
  },
  "language_info": {
   "codemirror_mode": {
    "name": "ipython",
    "version": 3
   },
   "file_extension": ".py",
   "mimetype": "text/x-python",
   "name": "python",
   "nbconvert_exporter": "python",
   "pygments_lexer": "ipython3",
   "version": "3.7.6"
  }
 },
 "nbformat": 4,
 "nbformat_minor": 4
}
