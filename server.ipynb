{
 "cells": [
  {
   "cell_type": "code",
   "execution_count": null,
   "metadata": {},
   "outputs": [
    {
     "name": "stderr",
     "output_type": "stream",
     "text": [
      " * Running on http://localhost:9011/ (Press CTRL+C to quit)\n",
      "127.0.0.1 - - [18/May/2020 17:35:18] \"\u001b[37mGET /getData HTTP/1.1\u001b[0m\" 200 -\n",
      "127.0.0.1 - - [18/May/2020 17:35:19] \"\u001b[33mGET /favicon.ico HTTP/1.1\u001b[0m\" 404 -\n"
     ]
    }
   ],
   "source": [
    "import json\n",
    "import pandas as pd\n",
    "from sklearn.externals import joblib\n",
    "from flask_cors import CORS, cross_origin\n",
    "from werkzeug.wrappers import Request, Response\n",
    "from flask import Flask, jsonify, request\n",
    "with open('columnas_names.json') as fname:\n",
    "    model_columnas = json.load(fname)\n",
    "\n",
    "model = joblib.load(\"modelo_ames.pkl\")\n",
    "model_dtypes = joblib.load(\"dtypes_ames.pkl\")\n",
    "\n",
    "app = Flask(__name__)\n",
    "cors = CORS(app)\n",
    "datos = pd.read_csv('ames.csv', nrows= 10)\n",
    "variables = [\"area_parcela\",\"area_piscina\",\"n_chimeneas\",\"n_cocinas\",\"n_dormitorios_sobre_suelo\",\"area_habitable_sobre_suelo\", \"calidad_general\"]\n",
    "\n",
    "predecir = datos[variables]\n",
    "\n",
    "def dict_a_df(obs, columnas, dtypes):\n",
    "    obs_df = pd.DataFrame([obs])\n",
    "    for col, dtype in dtypes.items():\n",
    "        if col in obs_df.columns:\n",
    "            obs_df[col] = obs_df[col].astype(dtype)\n",
    "        else:\n",
    "            obs_df[col] = None\n",
    "    return obs_df\n",
    "\n",
    "app.config['CORS_HEADERS'] = 'Content-Type'\n",
    "@app.route('/getData')\n",
    "@cross_origin()\n",
    "def index():\n",
    "    #observacion_dict = request.get_json()\n",
    "    prediccion = model.predict(predecir)[0]\n",
    "    return jsonify({'prediccion': prediccion})\n",
    "\n",
    "if __name__ == \"__main__\":\n",
    "    from werkzeug.serving import run_simple\n",
    "    run_simple('localhost', 9011, app)"
   ]
  }
 ],
 "metadata": {
  "kernelspec": {
   "display_name": "Python 3",
   "language": "python",
   "name": "python3"
  },
  "language_info": {
   "codemirror_mode": {
    "name": "ipython",
    "version": 3
   },
   "file_extension": ".py",
   "mimetype": "text/x-python",
   "name": "python",
   "nbconvert_exporter": "python",
   "pygments_lexer": "ipython3",
   "version": "3.7.6"
  }
 },
 "nbformat": 4,
 "nbformat_minor": 4
}
